{
 "cells": [
  {
   "cell_type": "code",
   "execution_count": null,
   "metadata": {},
   "outputs": [],
   "source": [
    "import os\n",
    "import glob\n",
    "import math\n",
    "import pandas as pd\n",
    "import librosa as lbr\n",
    "import matplotlib.pyplot as plt\n",
    "\n",
    "from tqdm import tqdm\n",
    "from sklearn.utils.multiclass import unique_labels\n",
    "from sklearn.preprocessing import OneHotEncoder\n",
    "from IPython.display import Audio\n",
    "from reservoirpy.nodes import ESN\n",
    "from sklearn.metrics import accuracy_score\n"
   ]
  },
  {
   "cell_type": "code",
   "execution_count": 1,
   "metadata": {},
   "outputs": [
    {
     "ename": "FileNotFoundError",
     "evalue": "[Errno 2] No such file or directory: './static/song.wav'",
     "output_type": "error",
     "traceback": [
      "\u001b[1;31m---------------------------------------------------------------------------\u001b[0m",
      "\u001b[1;31mFileNotFoundError\u001b[0m                         Traceback (most recent call last)",
      "Cell \u001b[1;32mIn [1], line 3\u001b[0m\n\u001b[0;32m      1\u001b[0m \u001b[39mfrom\u001b[39;00m \u001b[39mIPython\u001b[39;00m\u001b[39m.\u001b[39;00m\u001b[39mdisplay\u001b[39;00m \u001b[39mimport\u001b[39;00m Audio\n\u001b[1;32m----> 3\u001b[0m audio \u001b[39m=\u001b[39m Audio(filename\u001b[39m=\u001b[39;49m\u001b[39m\"\u001b[39;49m\u001b[39m./static/song.wav\u001b[39;49m\u001b[39m\"\u001b[39;49m)\n",
      "File \u001b[1;32m~\\AppData\\Roaming\\Python\\Python310\\site-packages\\IPython\\lib\\display.py:125\u001b[0m, in \u001b[0;36mAudio.__init__\u001b[1;34m(self, data, filename, url, embed, rate, autoplay, normalize, element_id)\u001b[0m\n\u001b[0;32m    123\u001b[0m \u001b[39mself\u001b[39m\u001b[39m.\u001b[39mautoplay \u001b[39m=\u001b[39m autoplay\n\u001b[0;32m    124\u001b[0m \u001b[39mself\u001b[39m\u001b[39m.\u001b[39melement_id \u001b[39m=\u001b[39m element_id\n\u001b[1;32m--> 125\u001b[0m \u001b[39msuper\u001b[39;49m(Audio, \u001b[39mself\u001b[39;49m)\u001b[39m.\u001b[39;49m\u001b[39m__init__\u001b[39;49m(data\u001b[39m=\u001b[39;49mdata, url\u001b[39m=\u001b[39;49murl, filename\u001b[39m=\u001b[39;49mfilename)\n\u001b[0;32m    127\u001b[0m \u001b[39mif\u001b[39;00m \u001b[39mself\u001b[39m\u001b[39m.\u001b[39mdata \u001b[39mis\u001b[39;00m \u001b[39mnot\u001b[39;00m \u001b[39mNone\u001b[39;00m \u001b[39mand\u001b[39;00m \u001b[39mnot\u001b[39;00m \u001b[39misinstance\u001b[39m(\u001b[39mself\u001b[39m\u001b[39m.\u001b[39mdata, \u001b[39mbytes\u001b[39m):\n\u001b[0;32m    128\u001b[0m     \u001b[39mif\u001b[39;00m rate \u001b[39mis\u001b[39;00m \u001b[39mNone\u001b[39;00m:\n",
      "File \u001b[1;32m~\\AppData\\Roaming\\Python\\Python310\\site-packages\\IPython\\core\\display.py:327\u001b[0m, in \u001b[0;36mDisplayObject.__init__\u001b[1;34m(self, data, url, filename, metadata)\u001b[0m\n\u001b[0;32m    324\u001b[0m \u001b[39melif\u001b[39;00m \u001b[39mself\u001b[39m\u001b[39m.\u001b[39mmetadata \u001b[39mis\u001b[39;00m \u001b[39mNone\u001b[39;00m:\n\u001b[0;32m    325\u001b[0m     \u001b[39mself\u001b[39m\u001b[39m.\u001b[39mmetadata \u001b[39m=\u001b[39m {}\n\u001b[1;32m--> 327\u001b[0m \u001b[39mself\u001b[39;49m\u001b[39m.\u001b[39;49mreload()\n\u001b[0;32m    328\u001b[0m \u001b[39mself\u001b[39m\u001b[39m.\u001b[39m_check_data()\n",
      "File \u001b[1;32m~\\AppData\\Roaming\\Python\\Python310\\site-packages\\IPython\\lib\\display.py:136\u001b[0m, in \u001b[0;36mAudio.reload\u001b[1;34m(self)\u001b[0m\n\u001b[0;32m    134\u001b[0m \u001b[39mimport\u001b[39;00m \u001b[39mmimetypes\u001b[39;00m\n\u001b[0;32m    135\u001b[0m \u001b[39mif\u001b[39;00m \u001b[39mself\u001b[39m\u001b[39m.\u001b[39membed:\n\u001b[1;32m--> 136\u001b[0m     \u001b[39msuper\u001b[39;49m(Audio, \u001b[39mself\u001b[39;49m)\u001b[39m.\u001b[39;49mreload()\n\u001b[0;32m    138\u001b[0m \u001b[39mif\u001b[39;00m \u001b[39mself\u001b[39m\u001b[39m.\u001b[39mfilename \u001b[39mis\u001b[39;00m \u001b[39mnot\u001b[39;00m \u001b[39mNone\u001b[39;00m:\n\u001b[0;32m    139\u001b[0m     \u001b[39mself\u001b[39m\u001b[39m.\u001b[39mmimetype \u001b[39m=\u001b[39m mimetypes\u001b[39m.\u001b[39mguess_type(\u001b[39mself\u001b[39m\u001b[39m.\u001b[39mfilename)[\u001b[39m0\u001b[39m]\n",
      "File \u001b[1;32m~\\AppData\\Roaming\\Python\\Python310\\site-packages\\IPython\\core\\display.py:353\u001b[0m, in \u001b[0;36mDisplayObject.reload\u001b[1;34m(self)\u001b[0m\n\u001b[0;32m    351\u001b[0m \u001b[39mif\u001b[39;00m \u001b[39mself\u001b[39m\u001b[39m.\u001b[39mfilename \u001b[39mis\u001b[39;00m \u001b[39mnot\u001b[39;00m \u001b[39mNone\u001b[39;00m:\n\u001b[0;32m    352\u001b[0m     encoding \u001b[39m=\u001b[39m \u001b[39mNone\u001b[39;00m \u001b[39mif\u001b[39;00m \u001b[39m\"\u001b[39m\u001b[39mb\u001b[39m\u001b[39m\"\u001b[39m \u001b[39min\u001b[39;00m \u001b[39mself\u001b[39m\u001b[39m.\u001b[39m_read_flags \u001b[39melse\u001b[39;00m \u001b[39m\"\u001b[39m\u001b[39mutf-8\u001b[39m\u001b[39m\"\u001b[39m\n\u001b[1;32m--> 353\u001b[0m     \u001b[39mwith\u001b[39;00m \u001b[39mopen\u001b[39;49m(\u001b[39mself\u001b[39;49m\u001b[39m.\u001b[39;49mfilename, \u001b[39mself\u001b[39;49m\u001b[39m.\u001b[39;49m_read_flags, encoding\u001b[39m=\u001b[39;49mencoding) \u001b[39mas\u001b[39;00m f:\n\u001b[0;32m    354\u001b[0m         \u001b[39mself\u001b[39m\u001b[39m.\u001b[39mdata \u001b[39m=\u001b[39m f\u001b[39m.\u001b[39mread()\n\u001b[0;32m    355\u001b[0m \u001b[39melif\u001b[39;00m \u001b[39mself\u001b[39m\u001b[39m.\u001b[39murl \u001b[39mis\u001b[39;00m \u001b[39mnot\u001b[39;00m \u001b[39mNone\u001b[39;00m:\n\u001b[0;32m    356\u001b[0m     \u001b[39m# Deferred import\u001b[39;00m\n",
      "\u001b[1;31mFileNotFoundError\u001b[0m: [Errno 2] No such file or directory: './static/song.wav'"
     ]
    }
   ],
   "source": [
    "audio = Audio(filename=\"./static/song.wav\")"
   ]
  },
  {
   "cell_type": "code",
   "execution_count": null,
   "metadata": {},
   "outputs": [],
   "source": [
    "display(audio)"
   ]
  },
  {
   "cell_type": "code",
   "execution_count": null,
   "metadata": {},
   "outputs": [],
   "source": [
    "im = plt.imread(\"./static/canary_outputs.png\")\n",
    "plt.figure(figsize=(15, 15)); plt.imshow(im); plt.axis('off'); plt.show()"
   ]
  },
  {
   "cell_type": "code",
   "execution_count": null,
   "metadata": {},
   "outputs": [],
   "source": [
    "win_length = 1024\n",
    "n_fft = 2048\n",
    "hop_length = 512\n",
    "fmin = 500\n",
    "fmax = 8000\n",
    "lifter = 40\n",
    "n_mfcc = 13\n",
    "\n",
    "\n",
    "def load_data(directory, max_songs=450):\n",
    "    audios = sorted(glob.glob(directory + \"/**/*.wav\", recursive=True))\n",
    "    annotations = sorted(glob.glob(directory + \"/**/*.csv\", recursive=True))\n",
    "\n",
    "\n",
    "    X = []\n",
    "    Y = []\n",
    "    vocab = set()\n",
    "\n",
    "    max_songs = min(len(audios), max_songs)\n",
    "\n",
    "    for audio, annotation, _ in tqdm(zip(audios, annotations, range(max_songs)), total=max_songs):\n",
    "        df = pd.read_csv(annotation)\n",
    "        wav, rate = lbr.load(audio, sr=None)\n",
    "        x = lbr.feature.mfcc(y=wav, sr=rate,\n",
    "                              win_length=win_length, hop_length=hop_length,\n",
    "                              n_fft=n_fft, fmin=fmin, fmax=fmax, lifter=lifter,\n",
    "                              n_mfcc=n_mfcc)\n",
    "        delta = lbr.feature.delta(x, mode=\"wrap\")\n",
    "        delta2 = lbr.feature.delta(x, order=2, mode=\"wrap\")\n",
    "\n",
    "        X.append(np.vstack([x, delta, delta2]).T)\n",
    "\n",
    "        y = [[\"SIL\"]] * x.shape[1]\n",
    "\n",
    "        for annot in df.itertuples():\n",
    "            start = max(0, round(annot.start * rate / hop_length))\n",
    "            end = min(x.shape[1], round(annot.end * rate / hop_length))\n",
    "            y[start:end] = [[annot.syll]] * (end - start)\n",
    "            vocab.add(annot.syll)\n",
    "\n",
    "        Y.append(y)\n",
    "\n",
    "    return X, Y, list(vocab)\n",
    "\n",
    "X, Y, vocab = load_data(\"./canary-data\")"
   ]
  },
  {
   "cell_type": "code",
   "execution_count": null,
   "metadata": {},
   "outputs": [],
   "source": [
    "one_hot = OneHotEncoder(categories=[vocab], sparse=False)\n",
    "\n",
    "Y = [one_hot.fit_transform(np.array(y)) for y in Y]"
   ]
  },
  {
   "cell_type": "code",
   "execution_count": null,
   "metadata": {},
   "outputs": [],
   "source": [
    "X_train, y_train = X[:-10], Y[:-10]\n",
    "X_test, y_test = X[-10:], Y[-10:]"
   ]
  },
  {
   "cell_type": "code",
   "execution_count": null,
   "metadata": {},
   "outputs": [],
   "source": [
    "units = 1000\n",
    "leak_rate = 0.05\n",
    "spectral_radius = 0.5\n",
    "inputs_scaling = 0.001\n",
    "connectivity = 0.1\n",
    "input_connectivity = 0.1\n",
    "regularization = 1e-5\n",
    "seed = 1234\n",
    "\n",
    "\n",
    "reservoir = Reservoir(units, sr=spectral_radius,\n",
    "                      lr=leak_rate, rc_connectivity=connectivity,\n",
    "                      input_connectivity=input_connectivity, seed=seed)\n",
    "\n",
    "readout = Ridge(ridge=regularization)\n",
    "\n",
    "\n",
    "esn = ESN(reservoir=reservoir, readout=readout, workers=-1)"
   ]
  },
  {
   "cell_type": "code",
   "execution_count": null,
   "metadata": {},
   "outputs": [],
   "source": [
    "esn = esn.fit(X_train, y_train)"
   ]
  },
  {
   "cell_type": "code",
   "execution_count": null,
   "metadata": {},
   "outputs": [],
   "source": [
    "outputs = esn.run(X_test)"
   ]
  },
  {
   "cell_type": "code",
   "execution_count": null,
   "metadata": {},
   "outputs": [],
   "source": [
    "scores = []\n",
    "for y_t, y_p in zip(y_test, outputs):\n",
    "    targets = np.vstack(one_hot.inverse_transform(y_t)).flatten()\n",
    "\n",
    "    top_1 = np.argmax(y_p, axis=1)\n",
    "    top_1 = np.array([vocab[t] for t in top_1])\n",
    "\n",
    "    accuracy = accuracy_score(targets, top_1)\n",
    "\n",
    "    scores.append(accuracy)"
   ]
  },
  {
   "cell_type": "code",
   "execution_count": null,
   "metadata": {},
   "outputs": [],
   "source": [
    "scores"
   ]
  },
  {
   "cell_type": "code",
   "execution_count": null,
   "metadata": {},
   "outputs": [],
   "source": [
    "print(\"Average accuracy :\", f\"{np.mean(scores):.4f}\", \"±\", f\"{np.std(scores):.5f}\")"
   ]
  }
 ],
 "metadata": {
  "kernelspec": {
   "display_name": "Python 3",
   "language": "python",
   "name": "python3"
  },
  "language_info": {
   "codemirror_mode": {
    "name": "ipython",
    "version": 3
   },
   "file_extension": ".py",
   "mimetype": "text/x-python",
   "name": "python",
   "nbconvert_exporter": "python",
   "pygments_lexer": "ipython3",
   "version": "3.10.6 (main, Nov 14 2022, 16:10:14) [GCC 11.3.0]"
  },
  "orig_nbformat": 4,
  "vscode": {
   "interpreter": {
    "hash": "916dbcbb3f70747c44a77c7bcd40155683ae19c65e1c03b4aa3499c5328201f1"
   }
  }
 },
 "nbformat": 4,
 "nbformat_minor": 2
}
